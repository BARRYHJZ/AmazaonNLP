{
 "cells": [
  {
   "cell_type": "markdown",
   "metadata": {
    "colab_type": "text",
    "id": "Hhj4ZGYE3UBf"
   },
   "source": [
    "# Making predictions over amazon recommendation dataset\n",
    "\n",
    "## Predictions\n",
    "The purpose of this analysis is to make up a prediction model where we will be able to predict whether a recommendation is positive or negative. In this analysis, we will not focus on the Score, but only the positive/negative sentiment of the recommendation. \n",
    "\n",
    "To do so, we will work on Amazon's recommendation dataset, we will build a Term-doc incidence matrix using term frequency and inverse document frequency ponderation. When the data is ready, we will load it into predicitve algorithms. In the end, we hope to find a \"best\" model for predicting the recommendation's sentiment.\n",
    "\n",
    "## Loading the data\n",
    "As we only want to get the global sentiment of the recommendations (positive or negative), we will purposefully ignore all Scores equal to 3. If the score id above 3, then the recommendation wil be set to \"postive\". Otherwise, it will be set to \"negative\". \n",
    "\n",
    "The data will be split into an training set and a test set with a test set ratio of 0.2"
   ]
  },
  {
   "cell_type": "code",
   "execution_count": 7,
   "metadata": {
    "colab": {},
    "colab_type": "code",
    "executionInfo": {
     "elapsed": 1034,
     "status": "ok",
     "timestamp": 1600074394554,
     "user": {
      "displayName": "Shan Luo",
      "photoUrl": "https://lh3.googleusercontent.com/a-/AOh14GhmdDtpQk3yqqUEl2obHwbJ5oZjhwg40GpKJI9l=s64",
      "userId": "03713980428827680544"
     },
     "user_tz": -60
    },
    "id": "igLQJg7i3UBg"
   },
   "outputs": [],
   "source": [
    "import pandas as pd\n",
    "import numpy as np\n",
    "import pickle"
   ]
  },
  {
   "cell_type": "code",
   "execution_count": 8,
   "metadata": {},
   "outputs": [
    {
     "data": {
      "text/plain": [
       "\"AMAZON'S RECOMMENDATION SENTIMENT ANALYSIS\""
      ]
     },
     "execution_count": 8,
     "metadata": {},
     "output_type": "execute_result"
    }
   ],
   "source": [
    "w=\"Amazon's recommendation sentiment analysis\"\n",
    "import numpy as np\n",
    "w.upper()"
   ]
  },
  {
   "cell_type": "code",
   "execution_count": 9,
   "metadata": {
    "colab": {},
    "colab_type": "code",
    "id": "tfZ8zmXW3UBj"
   },
   "outputs": [],
   "source": [
    "df = pd.read_csv('/Users/zenghaoji/Documents/datacase/ZTGG/Project 2/Reviews.csv')"
   ]
  },
  {
   "cell_type": "code",
   "execution_count": 10,
   "metadata": {
    "colab": {},
    "colab_type": "code",
    "id": "9ieIsFTA3UBn",
    "outputId": "a4d17ba1-d2e2-4dd1-d991-39232085e047"
   },
   "outputs": [
    {
     "data": {
      "text/html": [
       "<div>\n",
       "<style scoped>\n",
       "    .dataframe tbody tr th:only-of-type {\n",
       "        vertical-align: middle;\n",
       "    }\n",
       "\n",
       "    .dataframe tbody tr th {\n",
       "        vertical-align: top;\n",
       "    }\n",
       "\n",
       "    .dataframe thead th {\n",
       "        text-align: right;\n",
       "    }\n",
       "</style>\n",
       "<table border=\"1\" class=\"dataframe\">\n",
       "  <thead>\n",
       "    <tr style=\"text-align: right;\">\n",
       "      <th></th>\n",
       "      <th>Id</th>\n",
       "      <th>ProductId</th>\n",
       "      <th>UserId</th>\n",
       "      <th>ProfileName</th>\n",
       "      <th>HelpfulnessNumerator</th>\n",
       "      <th>HelpfulnessDenominator</th>\n",
       "      <th>Score</th>\n",
       "      <th>Time</th>\n",
       "      <th>Summary</th>\n",
       "      <th>Text</th>\n",
       "    </tr>\n",
       "  </thead>\n",
       "  <tbody>\n",
       "    <tr>\n",
       "      <th>0</th>\n",
       "      <td>1</td>\n",
       "      <td>B001E4KFG0</td>\n",
       "      <td>A3SGXH7AUHU8GW</td>\n",
       "      <td>delmartian</td>\n",
       "      <td>1</td>\n",
       "      <td>1</td>\n",
       "      <td>5</td>\n",
       "      <td>1303862400</td>\n",
       "      <td>Good Quality Dog Food</td>\n",
       "      <td>I have bought several of the Vitality canned d...</td>\n",
       "    </tr>\n",
       "    <tr>\n",
       "      <th>1</th>\n",
       "      <td>2</td>\n",
       "      <td>B00813GRG4</td>\n",
       "      <td>A1D87F6ZCVE5NK</td>\n",
       "      <td>dll pa</td>\n",
       "      <td>0</td>\n",
       "      <td>0</td>\n",
       "      <td>1</td>\n",
       "      <td>1346976000</td>\n",
       "      <td>Not as Advertised</td>\n",
       "      <td>Product arrived labeled as Jumbo Salted Peanut...</td>\n",
       "    </tr>\n",
       "    <tr>\n",
       "      <th>2</th>\n",
       "      <td>3</td>\n",
       "      <td>B000LQOCH0</td>\n",
       "      <td>ABXLMWJIXXAIN</td>\n",
       "      <td>Natalia Corres \"Natalia Corres\"</td>\n",
       "      <td>1</td>\n",
       "      <td>1</td>\n",
       "      <td>4</td>\n",
       "      <td>1219017600</td>\n",
       "      <td>\"Delight\" says it all</td>\n",
       "      <td>This is a confection that has been around a fe...</td>\n",
       "    </tr>\n",
       "    <tr>\n",
       "      <th>3</th>\n",
       "      <td>4</td>\n",
       "      <td>B000UA0QIQ</td>\n",
       "      <td>A395BORC6FGVXV</td>\n",
       "      <td>Karl</td>\n",
       "      <td>3</td>\n",
       "      <td>3</td>\n",
       "      <td>2</td>\n",
       "      <td>1307923200</td>\n",
       "      <td>Cough Medicine</td>\n",
       "      <td>If you are looking for the secret ingredient i...</td>\n",
       "    </tr>\n",
       "    <tr>\n",
       "      <th>4</th>\n",
       "      <td>5</td>\n",
       "      <td>B006K2ZZ7K</td>\n",
       "      <td>A1UQRSCLF8GW1T</td>\n",
       "      <td>Michael D. Bigham \"M. Wassir\"</td>\n",
       "      <td>0</td>\n",
       "      <td>0</td>\n",
       "      <td>5</td>\n",
       "      <td>1350777600</td>\n",
       "      <td>Great taffy</td>\n",
       "      <td>Great taffy at a great price.  There was a wid...</td>\n",
       "    </tr>\n",
       "  </tbody>\n",
       "</table>\n",
       "</div>"
      ],
      "text/plain": [
       "   Id   ProductId          UserId                      ProfileName  \\\n",
       "0   1  B001E4KFG0  A3SGXH7AUHU8GW                       delmartian   \n",
       "1   2  B00813GRG4  A1D87F6ZCVE5NK                           dll pa   \n",
       "2   3  B000LQOCH0   ABXLMWJIXXAIN  Natalia Corres \"Natalia Corres\"   \n",
       "3   4  B000UA0QIQ  A395BORC6FGVXV                             Karl   \n",
       "4   5  B006K2ZZ7K  A1UQRSCLF8GW1T    Michael D. Bigham \"M. Wassir\"   \n",
       "\n",
       "   HelpfulnessNumerator  HelpfulnessDenominator  Score        Time  \\\n",
       "0                     1                       1      5  1303862400   \n",
       "1                     0                       0      1  1346976000   \n",
       "2                     1                       1      4  1219017600   \n",
       "3                     3                       3      2  1307923200   \n",
       "4                     0                       0      5  1350777600   \n",
       "\n",
       "                 Summary                                               Text  \n",
       "0  Good Quality Dog Food  I have bought several of the Vitality canned d...  \n",
       "1      Not as Advertised  Product arrived labeled as Jumbo Salted Peanut...  \n",
       "2  \"Delight\" says it all  This is a confection that has been around a fe...  \n",
       "3         Cough Medicine  If you are looking for the secret ingredient i...  \n",
       "4            Great taffy  Great taffy at a great price.  There was a wid...  "
      ]
     },
     "execution_count": 10,
     "metadata": {},
     "output_type": "execute_result"
    }
   ],
   "source": [
    "df.head()"
   ]
  },
  {
   "cell_type": "code",
   "execution_count": 11,
   "metadata": {
    "colab": {},
    "colab_type": "code",
    "id": "wl4fWYJd3UBv",
    "outputId": "3e479a19-81cf-4b16-b1c8-96d85050a3a9",
    "scrolled": true
   },
   "outputs": [
    {
     "data": {
      "text/plain": [
       "(568454, 10)"
      ]
     },
     "execution_count": 11,
     "metadata": {},
     "output_type": "execute_result"
    }
   ],
   "source": [
    "df.shape # data shape"
   ]
  },
  {
   "cell_type": "code",
   "execution_count": 12,
   "metadata": {
    "colab": {},
    "colab_type": "code",
    "id": "dqFY6UIe3UB3",
    "outputId": "8f5b0538-1903-46c9-ce3a-c6a0a5e66044",
    "scrolled": false
   },
   "outputs": [
    {
     "data": {
      "text/plain": [
       "Id                        568454\n",
       "ProductId                  74258\n",
       "UserId                    256059\n",
       "ProfileName               218416\n",
       "HelpfulnessNumerator         231\n",
       "HelpfulnessDenominator       234\n",
       "Score                          5\n",
       "Time                        3168\n",
       "Summary                   295742\n",
       "Text                      393579\n",
       "dtype: int64"
      ]
     },
     "execution_count": 12,
     "metadata": {},
     "output_type": "execute_result"
    }
   ],
   "source": [
    "df.nunique() # check num of unique items per column"
   ]
  },
  {
   "cell_type": "code",
   "execution_count": 13,
   "metadata": {
    "colab": {},
    "colab_type": "code",
    "id": "3zTxClHs3UB6",
    "outputId": "763bcf5a-e412-420b-8a2f-376778d66371"
   },
   "outputs": [
    {
     "data": {
      "text/plain": [
       "Index(['Id', 'ProductId', 'UserId', 'ProfileName', 'HelpfulnessNumerator',\n",
       "       'HelpfulnessDenominator', 'Score', 'Time', 'Summary', 'Text'],\n",
       "      dtype='object')"
      ]
     },
     "execution_count": 13,
     "metadata": {},
     "output_type": "execute_result"
    }
   ],
   "source": [
    "df.columns"
   ]
  },
  {
   "cell_type": "code",
   "execution_count": 14,
   "metadata": {
    "colab": {},
    "colab_type": "code",
    "id": "EMiTNrql3UB-"
   },
   "outputs": [],
   "source": [
    "# rename columns HelpfulnessNumerator and HelpfulnessDenominator\n",
    "df.columns = [\"Id\", \"ProductId\", \"UserId\", \"ProfileName\", \"VotesHelpful\",\n",
    "              \"VotesTotal\", \"Score\", \"Time\", \"Summary\", \"Text\"]"
   ]
  },
  {
   "cell_type": "markdown",
   "metadata": {
    "colab_type": "text",
    "id": "6isleFWx3UCB"
   },
   "source": [
    "Let's add the **Sentiment** column that turns the numeric score into either *positive* or *negative*.\n",
    "\n",
    "Similarly, the **Usefulness** column turns the number of votes into a boolean."
   ]
  },
  {
   "cell_type": "code",
   "execution_count": 15,
   "metadata": {
    "colab": {},
    "colab_type": "code",
    "id": "rRVKFHlV3UCC",
    "outputId": "7ac487ce-afd4-48cc-a168-7ad85d0b35bd"
   },
   "outputs": [
    {
     "data": {
      "text/html": [
       "<div>\n",
       "<style scoped>\n",
       "    .dataframe tbody tr th:only-of-type {\n",
       "        vertical-align: middle;\n",
       "    }\n",
       "\n",
       "    .dataframe tbody tr th {\n",
       "        vertical-align: top;\n",
       "    }\n",
       "\n",
       "    .dataframe thead th {\n",
       "        text-align: right;\n",
       "    }\n",
       "</style>\n",
       "<table border=\"1\" class=\"dataframe\">\n",
       "  <thead>\n",
       "    <tr style=\"text-align: right;\">\n",
       "      <th></th>\n",
       "      <th>Id</th>\n",
       "      <th>ProductId</th>\n",
       "      <th>UserId</th>\n",
       "      <th>ProfileName</th>\n",
       "      <th>VotesHelpful</th>\n",
       "      <th>VotesTotal</th>\n",
       "      <th>Score</th>\n",
       "      <th>Time</th>\n",
       "      <th>Summary</th>\n",
       "      <th>Text</th>\n",
       "      <th>Sentiment</th>\n",
       "    </tr>\n",
       "  </thead>\n",
       "  <tbody>\n",
       "    <tr>\n",
       "      <th>0</th>\n",
       "      <td>1</td>\n",
       "      <td>B001E4KFG0</td>\n",
       "      <td>A3SGXH7AUHU8GW</td>\n",
       "      <td>delmartian</td>\n",
       "      <td>1</td>\n",
       "      <td>1</td>\n",
       "      <td>5</td>\n",
       "      <td>1303862400</td>\n",
       "      <td>Good Quality Dog Food</td>\n",
       "      <td>I have bought several of the Vitality canned d...</td>\n",
       "      <td>positive</td>\n",
       "    </tr>\n",
       "    <tr>\n",
       "      <th>1</th>\n",
       "      <td>2</td>\n",
       "      <td>B00813GRG4</td>\n",
       "      <td>A1D87F6ZCVE5NK</td>\n",
       "      <td>dll pa</td>\n",
       "      <td>0</td>\n",
       "      <td>0</td>\n",
       "      <td>1</td>\n",
       "      <td>1346976000</td>\n",
       "      <td>Not as Advertised</td>\n",
       "      <td>Product arrived labeled as Jumbo Salted Peanut...</td>\n",
       "      <td>negative</td>\n",
       "    </tr>\n",
       "    <tr>\n",
       "      <th>2</th>\n",
       "      <td>3</td>\n",
       "      <td>B000LQOCH0</td>\n",
       "      <td>ABXLMWJIXXAIN</td>\n",
       "      <td>Natalia Corres \"Natalia Corres\"</td>\n",
       "      <td>1</td>\n",
       "      <td>1</td>\n",
       "      <td>4</td>\n",
       "      <td>1219017600</td>\n",
       "      <td>\"Delight\" says it all</td>\n",
       "      <td>This is a confection that has been around a fe...</td>\n",
       "      <td>positive</td>\n",
       "    </tr>\n",
       "    <tr>\n",
       "      <th>3</th>\n",
       "      <td>4</td>\n",
       "      <td>B000UA0QIQ</td>\n",
       "      <td>A395BORC6FGVXV</td>\n",
       "      <td>Karl</td>\n",
       "      <td>3</td>\n",
       "      <td>3</td>\n",
       "      <td>2</td>\n",
       "      <td>1307923200</td>\n",
       "      <td>Cough Medicine</td>\n",
       "      <td>If you are looking for the secret ingredient i...</td>\n",
       "      <td>negative</td>\n",
       "    </tr>\n",
       "    <tr>\n",
       "      <th>4</th>\n",
       "      <td>5</td>\n",
       "      <td>B006K2ZZ7K</td>\n",
       "      <td>A1UQRSCLF8GW1T</td>\n",
       "      <td>Michael D. Bigham \"M. Wassir\"</td>\n",
       "      <td>0</td>\n",
       "      <td>0</td>\n",
       "      <td>5</td>\n",
       "      <td>1350777600</td>\n",
       "      <td>Great taffy</td>\n",
       "      <td>Great taffy at a great price.  There was a wid...</td>\n",
       "      <td>positive</td>\n",
       "    </tr>\n",
       "  </tbody>\n",
       "</table>\n",
       "</div>"
      ],
      "text/plain": [
       "   Id   ProductId          UserId                      ProfileName  \\\n",
       "0   1  B001E4KFG0  A3SGXH7AUHU8GW                       delmartian   \n",
       "1   2  B00813GRG4  A1D87F6ZCVE5NK                           dll pa   \n",
       "2   3  B000LQOCH0   ABXLMWJIXXAIN  Natalia Corres \"Natalia Corres\"   \n",
       "3   4  B000UA0QIQ  A395BORC6FGVXV                             Karl   \n",
       "4   5  B006K2ZZ7K  A1UQRSCLF8GW1T    Michael D. Bigham \"M. Wassir\"   \n",
       "\n",
       "   VotesHelpful  VotesTotal  Score        Time                Summary  \\\n",
       "0             1           1      5  1303862400  Good Quality Dog Food   \n",
       "1             0           0      1  1346976000      Not as Advertised   \n",
       "2             1           1      4  1219017600  \"Delight\" says it all   \n",
       "3             3           3      2  1307923200         Cough Medicine   \n",
       "4             0           0      5  1350777600            Great taffy   \n",
       "\n",
       "                                                Text Sentiment  \n",
       "0  I have bought several of the Vitality canned d...  positive  \n",
       "1  Product arrived labeled as Jumbo Salted Peanut...  negative  \n",
       "2  This is a confection that has been around a fe...  positive  \n",
       "3  If you are looking for the secret ingredient i...  negative  \n",
       "4  Great taffy at a great price.  There was a wid...  positive  "
      ]
     },
     "execution_count": 15,
     "metadata": {},
     "output_type": "execute_result"
    }
   ],
   "source": [
    "df[\"Sentiment\"] = df[\"Score\"].apply(lambda score: \"positive\" if score > 3 else \"negative\")\n",
    "df.head(5)"
   ]
  },
  {
   "cell_type": "code",
   "execution_count": 16,
   "metadata": {
    "colab": {},
    "colab_type": "code",
    "id": "X8U__aEn3UCF",
    "outputId": "17ff693f-6b53-414d-99ce-2b2055ae487c",
    "scrolled": true
   },
   "outputs": [
    {
     "name": "stdout",
     "output_type": "stream",
     "text": [
      "positive    443777\n",
      "negative    124677\n",
      "Name: Sentiment, dtype: int64\n"
     ]
    }
   ],
   "source": [
    "# check some statistics\n",
    "print(df['Sentiment'].value_counts())"
   ]
  },
  {
   "cell_type": "markdown",
   "metadata": {
    "colab_type": "text",
    "id": "VV6l4i3_3UCI"
   },
   "source": [
    "Select subcolumns"
   ]
  },
  {
   "cell_type": "code",
   "execution_count": 17,
   "metadata": {
    "colab": {},
    "colab_type": "code",
    "id": "VerNBL873UCI"
   },
   "outputs": [],
   "source": [
    "df = df[[\"Score\", \"Sentiment\", \"Summary\", \"Text\"]]"
   ]
  },
  {
   "cell_type": "markdown",
   "metadata": {
    "colab_type": "text",
    "id": "HopCX2cl3UCL"
   },
   "source": [
    "Let's have a look at some 5s:"
   ]
  },
  {
   "cell_type": "code",
   "execution_count": 18,
   "metadata": {
    "colab": {},
    "colab_type": "code",
    "id": "mFmw8kUW3UCL",
    "outputId": "65a13aa0-f50d-4e05-8a02-23d1791d4683"
   },
   "outputs": [
    {
     "data": {
      "text/html": [
       "<div>\n",
       "<style scoped>\n",
       "    .dataframe tbody tr th:only-of-type {\n",
       "        vertical-align: middle;\n",
       "    }\n",
       "\n",
       "    .dataframe tbody tr th {\n",
       "        vertical-align: top;\n",
       "    }\n",
       "\n",
       "    .dataframe thead th {\n",
       "        text-align: right;\n",
       "    }\n",
       "</style>\n",
       "<table border=\"1\" class=\"dataframe\">\n",
       "  <thead>\n",
       "    <tr style=\"text-align: right;\">\n",
       "      <th></th>\n",
       "      <th>Score</th>\n",
       "      <th>Sentiment</th>\n",
       "      <th>Summary</th>\n",
       "      <th>Text</th>\n",
       "    </tr>\n",
       "  </thead>\n",
       "  <tbody>\n",
       "    <tr>\n",
       "      <th>0</th>\n",
       "      <td>5</td>\n",
       "      <td>positive</td>\n",
       "      <td>Good Quality Dog Food</td>\n",
       "      <td>I have bought several of the Vitality canned d...</td>\n",
       "    </tr>\n",
       "    <tr>\n",
       "      <th>4</th>\n",
       "      <td>5</td>\n",
       "      <td>positive</td>\n",
       "      <td>Great taffy</td>\n",
       "      <td>Great taffy at a great price.  There was a wid...</td>\n",
       "    </tr>\n",
       "    <tr>\n",
       "      <th>6</th>\n",
       "      <td>5</td>\n",
       "      <td>positive</td>\n",
       "      <td>Great!  Just as good as the expensive brands!</td>\n",
       "      <td>This saltwater taffy had great flavors and was...</td>\n",
       "    </tr>\n",
       "    <tr>\n",
       "      <th>7</th>\n",
       "      <td>5</td>\n",
       "      <td>positive</td>\n",
       "      <td>Wonderful, tasty taffy</td>\n",
       "      <td>This taffy is so good.  It is very soft and ch...</td>\n",
       "    </tr>\n",
       "    <tr>\n",
       "      <th>8</th>\n",
       "      <td>5</td>\n",
       "      <td>positive</td>\n",
       "      <td>Yay Barley</td>\n",
       "      <td>Right now I'm mostly just sprouting this so my...</td>\n",
       "    </tr>\n",
       "    <tr>\n",
       "      <th>9</th>\n",
       "      <td>5</td>\n",
       "      <td>positive</td>\n",
       "      <td>Healthy Dog Food</td>\n",
       "      <td>This is a very healthy dog food. Good for thei...</td>\n",
       "    </tr>\n",
       "    <tr>\n",
       "      <th>10</th>\n",
       "      <td>5</td>\n",
       "      <td>positive</td>\n",
       "      <td>The Best Hot Sauce in the World</td>\n",
       "      <td>I don't know if it's the cactus or the tequila...</td>\n",
       "    </tr>\n",
       "    <tr>\n",
       "      <th>11</th>\n",
       "      <td>5</td>\n",
       "      <td>positive</td>\n",
       "      <td>My cats LOVE this \"diet\" food better than thei...</td>\n",
       "      <td>One of my boys needed to lose some weight and ...</td>\n",
       "    </tr>\n",
       "    <tr>\n",
       "      <th>14</th>\n",
       "      <td>5</td>\n",
       "      <td>positive</td>\n",
       "      <td>Strawberry Twizzlers - Yummy</td>\n",
       "      <td>The Strawberry Twizzlers are my guilty pleasur...</td>\n",
       "    </tr>\n",
       "    <tr>\n",
       "      <th>15</th>\n",
       "      <td>5</td>\n",
       "      <td>positive</td>\n",
       "      <td>Lots of twizzlers, just what you expect.</td>\n",
       "      <td>My daughter loves twizzlers and this shipment ...</td>\n",
       "    </tr>\n",
       "  </tbody>\n",
       "</table>\n",
       "</div>"
      ],
      "text/plain": [
       "    Score Sentiment                                            Summary  \\\n",
       "0       5  positive                              Good Quality Dog Food   \n",
       "4       5  positive                                        Great taffy   \n",
       "6       5  positive      Great!  Just as good as the expensive brands!   \n",
       "7       5  positive                             Wonderful, tasty taffy   \n",
       "8       5  positive                                         Yay Barley   \n",
       "9       5  positive                                   Healthy Dog Food   \n",
       "10      5  positive                    The Best Hot Sauce in the World   \n",
       "11      5  positive  My cats LOVE this \"diet\" food better than thei...   \n",
       "14      5  positive                       Strawberry Twizzlers - Yummy   \n",
       "15      5  positive           Lots of twizzlers, just what you expect.   \n",
       "\n",
       "                                                 Text  \n",
       "0   I have bought several of the Vitality canned d...  \n",
       "4   Great taffy at a great price.  There was a wid...  \n",
       "6   This saltwater taffy had great flavors and was...  \n",
       "7   This taffy is so good.  It is very soft and ch...  \n",
       "8   Right now I'm mostly just sprouting this so my...  \n",
       "9   This is a very healthy dog food. Good for thei...  \n",
       "10  I don't know if it's the cactus or the tequila...  \n",
       "11  One of my boys needed to lose some weight and ...  \n",
       "14  The Strawberry Twizzlers are my guilty pleasur...  \n",
       "15  My daughter loves twizzlers and this shipment ...  "
      ]
     },
     "execution_count": 18,
     "metadata": {},
     "output_type": "execute_result"
    }
   ],
   "source": [
    "df[df.Score == 5].head(10)"
   ]
  },
  {
   "cell_type": "markdown",
   "metadata": {
    "colab_type": "text",
    "id": "b_h8Cbwa3UCR"
   },
   "source": [
    "And some 1s as well:"
   ]
  },
  {
   "cell_type": "code",
   "execution_count": 19,
   "metadata": {
    "colab": {},
    "colab_type": "code",
    "id": "xBtBPElz3UCR",
    "outputId": "e7540c21-201d-41d6-94f0-abee9f738490"
   },
   "outputs": [
    {
     "data": {
      "text/html": [
       "<div>\n",
       "<style scoped>\n",
       "    .dataframe tbody tr th:only-of-type {\n",
       "        vertical-align: middle;\n",
       "    }\n",
       "\n",
       "    .dataframe tbody tr th {\n",
       "        vertical-align: top;\n",
       "    }\n",
       "\n",
       "    .dataframe thead th {\n",
       "        text-align: right;\n",
       "    }\n",
       "</style>\n",
       "<table border=\"1\" class=\"dataframe\">\n",
       "  <thead>\n",
       "    <tr style=\"text-align: right;\">\n",
       "      <th></th>\n",
       "      <th>Score</th>\n",
       "      <th>Sentiment</th>\n",
       "      <th>Summary</th>\n",
       "      <th>Text</th>\n",
       "    </tr>\n",
       "  </thead>\n",
       "  <tbody>\n",
       "    <tr>\n",
       "      <th>1</th>\n",
       "      <td>1</td>\n",
       "      <td>negative</td>\n",
       "      <td>Not as Advertised</td>\n",
       "      <td>Product arrived labeled as Jumbo Salted Peanut...</td>\n",
       "    </tr>\n",
       "    <tr>\n",
       "      <th>12</th>\n",
       "      <td>1</td>\n",
       "      <td>negative</td>\n",
       "      <td>My Cats Are Not Fans of the New Food</td>\n",
       "      <td>My cats have been happily eating Felidae Plati...</td>\n",
       "    </tr>\n",
       "    <tr>\n",
       "      <th>26</th>\n",
       "      <td>1</td>\n",
       "      <td>negative</td>\n",
       "      <td>Nasty No flavor</td>\n",
       "      <td>The candy is just red , No flavor . Just  plan...</td>\n",
       "    </tr>\n",
       "    <tr>\n",
       "      <th>50</th>\n",
       "      <td>1</td>\n",
       "      <td>negative</td>\n",
       "      <td>Don't like it</td>\n",
       "      <td>This oatmeal is not good. Its mushy, soft, I d...</td>\n",
       "    </tr>\n",
       "    <tr>\n",
       "      <th>62</th>\n",
       "      <td>1</td>\n",
       "      <td>negative</td>\n",
       "      <td>stale product.</td>\n",
       "      <td>Arrived in 6 days and were so stale i could no...</td>\n",
       "    </tr>\n",
       "    <tr>\n",
       "      <th>73</th>\n",
       "      <td>1</td>\n",
       "      <td>negative</td>\n",
       "      <td>Warning!  WARNING!  -ALCOHOL SUGARS!</td>\n",
       "      <td>Buyer Beware Please! This sweetener is not for...</td>\n",
       "    </tr>\n",
       "    <tr>\n",
       "      <th>75</th>\n",
       "      <td>1</td>\n",
       "      <td>negative</td>\n",
       "      <td>No Tea Flavor</td>\n",
       "      <td>No tea flavor at all. Just whole brunch of art...</td>\n",
       "    </tr>\n",
       "    <tr>\n",
       "      <th>99</th>\n",
       "      <td>1</td>\n",
       "      <td>negative</td>\n",
       "      <td>Bad</td>\n",
       "      <td>I fed this to my Golden Retriever and he hated...</td>\n",
       "    </tr>\n",
       "    <tr>\n",
       "      <th>153</th>\n",
       "      <td>1</td>\n",
       "      <td>negative</td>\n",
       "      <td>Rip off Price</td>\n",
       "      <td>These singles sell for $2.50 - $3.36 at the st...</td>\n",
       "    </tr>\n",
       "    <tr>\n",
       "      <th>164</th>\n",
       "      <td>1</td>\n",
       "      <td>negative</td>\n",
       "      <td>Tasteless but low calorie</td>\n",
       "      <td>Seriously this product was as tasteless as the...</td>\n",
       "    </tr>\n",
       "  </tbody>\n",
       "</table>\n",
       "</div>"
      ],
      "text/plain": [
       "     Score Sentiment                               Summary  \\\n",
       "1        1  negative                     Not as Advertised   \n",
       "12       1  negative  My Cats Are Not Fans of the New Food   \n",
       "26       1  negative                       Nasty No flavor   \n",
       "50       1  negative                         Don't like it   \n",
       "62       1  negative                        stale product.   \n",
       "73       1  negative  Warning!  WARNING!  -ALCOHOL SUGARS!   \n",
       "75       1  negative                         No Tea Flavor   \n",
       "99       1  negative                                   Bad   \n",
       "153      1  negative                         Rip off Price   \n",
       "164      1  negative             Tasteless but low calorie   \n",
       "\n",
       "                                                  Text  \n",
       "1    Product arrived labeled as Jumbo Salted Peanut...  \n",
       "12   My cats have been happily eating Felidae Plati...  \n",
       "26   The candy is just red , No flavor . Just  plan...  \n",
       "50   This oatmeal is not good. Its mushy, soft, I d...  \n",
       "62   Arrived in 6 days and were so stale i could no...  \n",
       "73   Buyer Beware Please! This sweetener is not for...  \n",
       "75   No tea flavor at all. Just whole brunch of art...  \n",
       "99   I fed this to my Golden Retriever and he hated...  \n",
       "153  These singles sell for $2.50 - $3.36 at the st...  \n",
       "164  Seriously this product was as tasteless as the...  "
      ]
     },
     "execution_count": 19,
     "metadata": {},
     "output_type": "execute_result"
    }
   ],
   "source": [
    "df[df.Score == 1].head(10)"
   ]
  },
  {
   "cell_type": "markdown",
   "metadata": {
    "colab_type": "text",
    "id": "2iU-iQwI3UCZ"
   },
   "source": [
    "## Cleaning the data\n",
    "\n",
    "To format our data and build the Term-doc incidence matrix, many operations will be performed on the data :\n",
    "\n",
    "- Stop words removal\n",
    "- Stemming\n",
    "- Punctuations\n",
    "- Lowering"
   ]
  },
  {
   "cell_type": "markdown",
   "metadata": {
    "colab_type": "text",
    "id": "i5s-oiLk3UCa"
   },
   "source": [
    "### Stopwords\n",
    "* A stop word is a commonly used word (such as “the”, “a”, “an”, “in”) that a search engine has been programmed to ignore, both when indexing entries for searching and when retrieving them as the result of a search query.\n",
    "\n",
    "![alt text](https://www.geeksforgeeks.org/wp-content/uploads/Stop-word-removal-using-NLTK.png)"
   ]
  },
  {
   "cell_type": "code",
   "execution_count": 20,
   "metadata": {
    "colab": {},
    "colab_type": "code",
    "id": "0I8tVmVC3UCa",
    "outputId": "29dec0c9-4aa1-4552-c398-4df70a173aa0",
    "scrolled": true
   },
   "outputs": [
    {
     "name": "stdout",
     "output_type": "stream",
     "text": [
      "['i', 'me', 'my', 'myself', 'we', 'our', 'ours', 'ourselves', 'you', \"you're\", \"you've\", \"you'll\", \"you'd\", 'your', 'yours', 'yourself', 'yourselves', 'he', 'him', 'his', 'himself', 'she', \"she's\", 'her', 'hers', 'herself', 'it', \"it's\", 'its', 'itself', 'they', 'them', 'their', 'theirs', 'themselves', 'what', 'which', 'who', 'whom', 'this', 'that', \"that'll\", 'these', 'those', 'am', 'is', 'are', 'was', 'were', 'be', 'been', 'being', 'have', 'has', 'had', 'having', 'do', 'does', 'did', 'doing', 'a', 'an', 'the', 'and', 'but', 'if', 'or', 'because', 'as', 'until', 'while', 'of', 'at', 'by', 'for', 'with', 'about', 'against', 'between', 'into', 'through', 'during', 'before', 'after', 'above', 'below', 'to', 'from', 'up', 'down', 'in', 'out', 'on', 'off', 'over', 'under', 'again', 'further', 'then', 'once', 'here', 'there', 'when', 'where', 'why', 'how', 'all', 'any', 'both', 'each', 'few', 'more', 'most', 'other', 'some', 'such', 'no', 'nor', 'not', 'only', 'own', 'same', 'so', 'than', 'too', 'very', 's', 't', 'can', 'will', 'just', 'don', \"don't\", 'should', \"should've\", 'now', 'd', 'll', 'm', 'o', 're', 've', 'y', 'ain', 'aren', \"aren't\", 'couldn', \"couldn't\", 'didn', \"didn't\", 'doesn', \"doesn't\", 'hadn', \"hadn't\", 'hasn', \"hasn't\", 'haven', \"haven't\", 'isn', \"isn't\", 'ma', 'mightn', \"mightn't\", 'mustn', \"mustn't\", 'needn', \"needn't\", 'shan', \"shan't\", 'shouldn', \"shouldn't\", 'wasn', \"wasn't\", 'weren', \"weren't\", 'won', \"won't\", 'wouldn', \"wouldn't\"]\n"
     ]
    }
   ],
   "source": [
    "import nltk\n",
    "# nltk.download('stopwords')\n",
    "from nltk.corpus import stopwords\n",
    "stop = stopwords.words('english')\n",
    "print(stop)"
   ]
  },
  {
   "cell_type": "code",
   "execution_count": 21,
   "metadata": {
    "colab": {},
    "colab_type": "code",
    "id": "uGpuIO7j3UCd",
    "outputId": "47394b13-fa88-4099-c207-6832f17a7032"
   },
   "outputs": [
    {
     "data": {
      "text/plain": [
       "True"
      ]
     },
     "execution_count": 21,
     "metadata": {},
     "output_type": "execute_result"
    }
   ],
   "source": [
    "'not' in stop"
   ]
  },
  {
   "cell_type": "markdown",
   "metadata": {
    "colab_type": "text",
    "id": "eJWZ9p5R3UCg"
   },
   "source": [
    "## So we will not use stopwords removal for our modeling. "
   ]
  },
  {
   "cell_type": "markdown",
   "metadata": {
    "colab_type": "text",
    "id": "zJ9aopdm3UCg"
   },
   "source": [
    "### stemming"
   ]
  },
  {
   "cell_type": "code",
   "execution_count": 22,
   "metadata": {
    "colab": {},
    "colab_type": "code",
    "id": "4tbxpJ9N3UCg",
    "outputId": "2a4e44c0-94fe-49cf-9a9d-3fbcc8cc774b"
   },
   "outputs": [
    {
     "name": "stdout",
     "output_type": "stream",
     "text": [
      "tasti\n",
      "join\n",
      "appl\n"
     ]
    }
   ],
   "source": [
    "from nltk.stem import SnowballStemmer # Stemmers remove morphological affixes from words, leaving only the word stem.\n",
    "snow = SnowballStemmer('english') \n",
    "print(snow.stem('tasty'))\n",
    "print(snow.stem('joined'))\n",
    "print(snow.stem('apples'))"
   ]
  },
  {
   "cell_type": "markdown",
   "metadata": {
    "colab_type": "text",
    "id": "6OG83eVd3UCj"
   },
   "source": [
    "### Punctuations Removal"
   ]
  },
  {
   "cell_type": "code",
   "execution_count": 23,
   "metadata": {
    "colab": {},
    "colab_type": "code",
    "id": "LvW0og_b3UCj",
    "outputId": "b499f28c-9f3a-4655-b17a-02583b7514c5"
   },
   "outputs": [
    {
     "data": {
      "text/plain": [
       "'Id like to have some coffee today '"
      ]
     },
     "execution_count": 23,
     "metadata": {},
     "output_type": "execute_result"
    }
   ],
   "source": [
    "import re\n",
    "# cleaning punctuations from the sentence\n",
    "sentence = \"I'd like to have some coffee today!\"\n",
    "sentence = re.sub(r'[\\'|\"|#]', r'', sentence) # remove these punctuation\n",
    "sentence = re.sub(r'[?|!|.|,|)|(|\\|/]',r' ',sentence) # replace these punctuation with space\n",
    "sentence"
   ]
  },
  {
   "cell_type": "markdown",
   "metadata": {
    "colab_type": "text",
    "id": "rvPY9QW93UCn"
   },
   "source": [
    "### combine"
   ]
  },
  {
   "cell_type": "code",
   "execution_count": 24,
   "metadata": {
    "colab": {},
    "colab_type": "code",
    "id": "wYsQ_bd53UCn"
   },
   "outputs": [],
   "source": [
    "def cleanup(sentence):\n",
    "    sentence = str(sentence)\n",
    "    sentence = sentence.lower() # lower case\n",
    "    sentence = re.sub(r'[?|!|.|,|)|(|\\|/]',r' ',sentence) # replace these punctuation with space\n",
    "    tokens = sentence.split()\n",
    "    out = []\n",
    "    for t in tokens:\n",
    "        out.append(snow.stem(t))\n",
    "    out = \" \".join(out)\n",
    "    out = re.sub(r'[\\'|\"|#]', r'', out) # remove these punctuation\n",
    "    return out    "
   ]
  },
  {
   "cell_type": "code",
   "execution_count": 25,
   "metadata": {
    "colab": {},
    "colab_type": "code",
    "id": "FSwMzE4V3UCp"
   },
   "outputs": [],
   "source": [
    "# note that in this example, we do not use stopwords removal. \n",
    "# b/c stopwords like 'not', \"hadn't\" for example, have strong negative signal. "
   ]
  },
  {
   "cell_type": "code",
   "execution_count": 26,
   "metadata": {
    "colab": {},
    "colab_type": "code",
    "id": "dDgIybs63UCr",
    "outputId": "5db29b1e-1f95-4b4f-aaa5-f28ee5c0d9fa"
   },
   "outputs": [
    {
     "name": "stdout",
     "output_type": "stream",
     "text": [
      "how are you today\n",
      "not as advertis\n",
      "6\n"
     ]
    }
   ],
   "source": [
    "print(cleanup(\"how are you today?\"))\n",
    "print(cleanup(\"Not as Advertised\"))\n",
    "print(cleanup(6))"
   ]
  },
  {
   "cell_type": "code",
   "execution_count": 27,
   "metadata": {
    "colab": {},
    "colab_type": "code",
    "id": "syeZjXAB3UCu",
    "scrolled": true
   },
   "outputs": [],
   "source": [
    "df[\"Summary_Clean\"] = df[\"Summary\"].apply(cleanup)"
   ]
  },
  {
   "cell_type": "markdown",
   "metadata": {
    "colab_type": "text",
    "id": "2XqmecnH3UCw"
   },
   "source": [
    "### Let's get fancy with WordClouds!"
   ]
  },
  {
   "cell_type": "code",
   "execution_count": 28,
   "metadata": {
    "colab": {},
    "colab_type": "code",
    "id": "_zJW6bDt3UCw"
   },
   "outputs": [],
   "source": [
    "# !pip install wordcloud\n",
    "# !pip install matplotlib"
   ]
  },
  {
   "cell_type": "code",
   "execution_count": 29,
   "metadata": {
    "colab": {},
    "colab_type": "code",
    "id": "retgZ0wx3UCz"
   },
   "outputs": [],
   "source": [
    "%matplotlib inline\n",
    "import matplotlib.pyplot as plt\n",
    "import matplotlib as mpl\n",
    "from wordcloud import WordCloud, STOPWORDS\n",
    "\n",
    "#mpl.rcParams['figure.figsize']=(8.0,6.0)    #(6.0,4.0)\n",
    "mpl.rcParams['font.size']=12                #10 \n",
    "mpl.rcParams['savefig.dpi']=100             #72 \n",
    "mpl.rcParams['figure.subplot.bottom']=.1 \n",
    "\n",
    "def show_wordcloud(data, title = None):\n",
    "    wordcloud = WordCloud(\n",
    "        background_color='white',\n",
    "        stopwords=None,\n",
    "        max_words=200,\n",
    "        max_font_size=40, \n",
    "        scale=3,\n",
    "        random_state=1 # chosen at random by flipping a coin; it was heads\n",
    "    ).generate(str(data))\n",
    "    \n",
    "    fig = plt.figure(1, figsize=(8, 8))\n",
    "    plt.axis('off')\n",
    "    if title: \n",
    "        fig.suptitle(title, fontsize=20)\n",
    "        fig.subplots_adjust(top=2.3)\n",
    "\n",
    "    plt.imshow(wordcloud)\n",
    "    plt.show()"
   ]
  },
  {
   "cell_type": "code",
   "execution_count": 30,
   "metadata": {
    "colab": {},
    "colab_type": "code",
    "id": "ZzXeteaX3UC1",
    "outputId": "9377ff19-8dc3-4b33-bcbc-19015cc3543b",
    "scrolled": true
   },
   "outputs": [
    {
     "data": {
      "image/png": "[encoded data removed]",
      "text/plain": [
       "<Figure size 576x576 with 1 Axes>"
      ]
     },
     "metadata": {
      "needs_background": "light"
     },
     "output_type": "display_data"
    }
   ],
   "source": [
    "show_wordcloud(df.Summary_Clean.loc[df.Score == 5], title = \"High scoring\")"
   ]
  },
  {
   "cell_type": "code",
   "execution_count": 31,
   "metadata": {
    "colab": {},
    "colab_type": "code",
    "id": "CTDZPjJu3UC4",
    "outputId": "e6412697-0d6a-4738-b7fd-4576d1deec90",
    "scrolled": true
   },
   "outputs": [
    {
     "data": {
      "image/png": "[encoded data removed]",
      "text/plain": [
       "<Figure size 576x576 with 1 Axes>"
      ]
     },
     "metadata": {
      "needs_background": "light"
     },
     "output_type": "display_data"
    }
   ],
   "source": [
    "show_wordcloud(df.Summary_Clean.loc[df.Score == 1], title = \"Low scoring\")\n",
    "#nasti, taste, advertis, stale, altern, sweetner frenquncy \n",
    "# name frequncy top 5\n",
    "#operation的人点击词可以看词的最新的review"
   ]
  },
  {
   "cell_type": "markdown",
   "metadata": {
    "colab_type": "text",
    "id": "p9P2x3rk3UC7"
   },
   "source": [
    "### train test split"
   ]
  },
  {
   "cell_type": "code",
   "execution_count": 32,
   "metadata": {
    "colab": {},
    "colab_type": "code",
    "id": "kSYu1I283UC7",
    "outputId": "e69ff1c3-c01c-46f6-f373-9104a7f5166b"
   },
   "outputs": [
    {
     "name": "stdout",
     "output_type": "stream",
     "text": [
      "454763 items in training data, 113691 in test data\n"
     ]
    }
   ],
   "source": [
    "from sklearn.model_selection import train_test_split\n",
    "train, test = train_test_split(df, test_size=0.2, random_state = 1)\n",
    "print(\"%d items in training data, %d in test data\" % (len(train), len(test)))"
   ]
  },
  {
   "cell_type": "code",
   "execution_count": 33,
   "metadata": {
    "colab": {},
    "colab_type": "code",
    "id": "SHydj1Sg3UDB",
    "outputId": "9896d01a-f58f-48cf-f7d1-993287e79463"
   },
   "outputs": [
    {
     "data": {
      "text/html": [
       "<div>\n",
       "<style scoped>\n",
       "    .dataframe tbody tr th:only-of-type {\n",
       "        vertical-align: middle;\n",
       "    }\n",
       "\n",
       "    .dataframe tbody tr th {\n",
       "        vertical-align: top;\n",
       "    }\n",
       "\n",
       "    .dataframe thead th {\n",
       "        text-align: right;\n",
       "    }\n",
       "</style>\n",
       "<table border=\"1\" class=\"dataframe\">\n",
       "  <thead>\n",
       "    <tr style=\"text-align: right;\">\n",
       "      <th></th>\n",
       "      <th>Score</th>\n",
       "      <th>Sentiment</th>\n",
       "      <th>Summary</th>\n",
       "      <th>Text</th>\n",
       "      <th>Summary_Clean</th>\n",
       "    </tr>\n",
       "  </thead>\n",
       "  <tbody>\n",
       "    <tr>\n",
       "      <th>0</th>\n",
       "      <td>5</td>\n",
       "      <td>positive</td>\n",
       "      <td>The best espresso i've ever had</td>\n",
       "      <td>I've tried many types, but out of all of them,...</td>\n",
       "      <td>the best espresso iv ever had</td>\n",
       "    </tr>\n",
       "    <tr>\n",
       "      <th>1</th>\n",
       "      <td>3</td>\n",
       "      <td>negative</td>\n",
       "      <td>False advertising, but tasty</td>\n",
       "      <td>The only thing chipotle about this sauce is in...</td>\n",
       "      <td>fals advertis but tasti</td>\n",
       "    </tr>\n",
       "    <tr>\n",
       "      <th>2</th>\n",
       "      <td>1</td>\n",
       "      <td>negative</td>\n",
       "      <td>Deadly treat</td>\n",
       "      <td>I bought these at a local store. I broke up th...</td>\n",
       "      <td>dead treat</td>\n",
       "    </tr>\n",
       "    <tr>\n",
       "      <th>3</th>\n",
       "      <td>3</td>\n",
       "      <td>negative</td>\n",
       "      <td>Too Strong</td>\n",
       "      <td>I ordered light roast coffee and was sent one ...</td>\n",
       "      <td>too strong</td>\n",
       "    </tr>\n",
       "    <tr>\n",
       "      <th>4</th>\n",
       "      <td>4</td>\n",
       "      <td>positive</td>\n",
       "      <td>Very Good Tea</td>\n",
       "      <td>This tea is very good. A cup in the morning an...</td>\n",
       "      <td>veri good tea</td>\n",
       "    </tr>\n",
       "  </tbody>\n",
       "</table>\n",
       "</div>"
      ],
      "text/plain": [
       "   Score Sentiment                          Summary  \\\n",
       "0      5  positive  The best espresso i've ever had   \n",
       "1      3  negative     False advertising, but tasty   \n",
       "2      1  negative                     Deadly treat   \n",
       "3      3  negative                       Too Strong   \n",
       "4      4  positive                    Very Good Tea   \n",
       "\n",
       "                                                Text  \\\n",
       "0  I've tried many types, but out of all of them,...   \n",
       "1  The only thing chipotle about this sauce is in...   \n",
       "2  I bought these at a local store. I broke up th...   \n",
       "3  I ordered light roast coffee and was sent one ...   \n",
       "4  This tea is very good. A cup in the morning an...   \n",
       "\n",
       "                   Summary_Clean  \n",
       "0  the best espresso iv ever had  \n",
       "1        fals advertis but tasti  \n",
       "2                     dead treat  \n",
       "3                     too strong  \n",
       "4                  veri good tea  "
      ]
     },
     "execution_count": 33,
     "metadata": {},
     "output_type": "execute_result"
    }
   ],
   "source": [
    "train = train.reset_index(drop=True)\n",
    "train.head()"
   ]
  },
  {
   "cell_type": "code",
   "execution_count": 34,
   "metadata": {
    "colab": {},
    "colab_type": "code",
    "id": "9BUA5tz73UDC",
    "outputId": "dccba976-3289-4281-cc6f-ce584e549402"
   },
   "outputs": [
    {
     "data": {
      "text/html": [
       "<div>\n",
       "<style scoped>\n",
       "    .dataframe tbody tr th:only-of-type {\n",
       "        vertical-align: middle;\n",
       "    }\n",
       "\n",
       "    .dataframe tbody tr th {\n",
       "        vertical-align: top;\n",
       "    }\n",
       "\n",
       "    .dataframe thead th {\n",
       "        text-align: right;\n",
       "    }\n",
       "</style>\n",
       "<table border=\"1\" class=\"dataframe\">\n",
       "  <thead>\n",
       "    <tr style=\"text-align: right;\">\n",
       "      <th></th>\n",
       "      <th>Score</th>\n",
       "      <th>Sentiment</th>\n",
       "      <th>Summary</th>\n",
       "      <th>Text</th>\n",
       "      <th>Summary_Clean</th>\n",
       "    </tr>\n",
       "  </thead>\n",
       "  <tbody>\n",
       "    <tr>\n",
       "      <th>0</th>\n",
       "      <td>5</td>\n",
       "      <td>positive</td>\n",
       "      <td>Cherry Pie Larabar</td>\n",
       "      <td>I love the Cherry Pie Lara bar.  Best and tast...</td>\n",
       "      <td>cherri pie larabar</td>\n",
       "    </tr>\n",
       "    <tr>\n",
       "      <th>1</th>\n",
       "      <td>5</td>\n",
       "      <td>positive</td>\n",
       "      <td>Melitta Coffee</td>\n",
       "      <td>Melitta Cafe COllection Blanc et Noir coffee h...</td>\n",
       "      <td>melitta coffe</td>\n",
       "    </tr>\n",
       "    <tr>\n",
       "      <th>2</th>\n",
       "      <td>5</td>\n",
       "      <td>positive</td>\n",
       "      <td>great treat</td>\n",
       "      <td>my girls absolutely loved this tuna. they were...</td>\n",
       "      <td>great treat</td>\n",
       "    </tr>\n",
       "    <tr>\n",
       "      <th>3</th>\n",
       "      <td>5</td>\n",
       "      <td>positive</td>\n",
       "      <td>Daily Calming</td>\n",
       "      <td>The vendor is fast and dependable. The tea is ...</td>\n",
       "      <td>daili calm</td>\n",
       "    </tr>\n",
       "    <tr>\n",
       "      <th>4</th>\n",
       "      <td>5</td>\n",
       "      <td>positive</td>\n",
       "      <td>Best Canned Artichokes Out There!</td>\n",
       "      <td>UPDATE - 8/9/2010&lt;br /&gt;A lot can happen in jus...</td>\n",
       "      <td>best can artichok out there</td>\n",
       "    </tr>\n",
       "  </tbody>\n",
       "</table>\n",
       "</div>"
      ],
      "text/plain": [
       "   Score Sentiment                            Summary  \\\n",
       "0      5  positive                 Cherry Pie Larabar   \n",
       "1      5  positive                     Melitta Coffee   \n",
       "2      5  positive                        great treat   \n",
       "3      5  positive                      Daily Calming   \n",
       "4      5  positive  Best Canned Artichokes Out There!   \n",
       "\n",
       "                                                Text  \\\n",
       "0  I love the Cherry Pie Lara bar.  Best and tast...   \n",
       "1  Melitta Cafe COllection Blanc et Noir coffee h...   \n",
       "2  my girls absolutely loved this tuna. they were...   \n",
       "3  The vendor is fast and dependable. The tea is ...   \n",
       "4  UPDATE - 8/9/2010<br />A lot can happen in jus...   \n",
       "\n",
       "                 Summary_Clean  \n",
       "0           cherri pie larabar  \n",
       "1                melitta coffe  \n",
       "2                  great treat  \n",
       "3                   daili calm  \n",
       "4  best can artichok out there  "
      ]
     },
     "execution_count": 34,
     "metadata": {},
     "output_type": "execute_result"
    }
   ],
   "source": [
    "test = test.reset_index(drop=True)\n",
    "test.head()"
   ]
  },
  {
   "cell_type": "markdown",
   "metadata": {
    "colab_type": "text",
    "id": "TUcXnMb93UDF"
   },
   "source": [
    "# Ways to convert text to vector\n",
    "## *1) Uni-gram BOW*"
   ]
  },
  {
   "cell_type": "code",
   "execution_count": 35,
   "metadata": {
    "colab": {},
    "colab_type": "code",
    "id": "LUd3mHDF3UDF"
   },
   "outputs": [],
   "source": [
    "from sklearn.feature_extraction.text import CountVectorizer"
   ]
  },
  {
   "cell_type": "code",
   "execution_count": 36,
   "metadata": {
    "colab": {},
    "colab_type": "code",
    "id": "yTFCLrtm3UDI",
    "outputId": "0d3f3886-af92-408c-d274-a5e5c80977f0"
   },
   "outputs": [
    {
     "data": {
      "text/plain": [
       "array(['the best espresso iv ever had', 'fals advertis but tasti',\n",
       "       'dead treat', ..., 'best waffel mix ever', 'tri it youll love it',\n",
       "       'not worth the money'], dtype=object)"
      ]
     },
     "execution_count": 36,
     "metadata": {},
     "output_type": "execute_result"
    }
   ],
   "source": [
    "train['Summary_Clean'].values"
   ]
  },
  {
   "cell_type": "code",
   "execution_count": 37,
   "metadata": {
    "colab": {},
    "colab_type": "code",
    "id": "kwo_PdH03UDK"
   },
   "outputs": [],
   "source": [
    "uni_gram = CountVectorizer(min_df = 5, binary = True) # only use keyword which shows up more than 5 times. \n",
    "uni_gram_vectors_train = uni_gram.fit_transform(train['Summary_Clean'].values)\n",
    "uni_gram_vectors_test = uni_gram.transform(test['Summary_Clean'].values)"
   ]
  },
  {
   "cell_type": "code",
   "execution_count": 75,
   "metadata": {
    "colab": {},
    "colab_type": "code",
    "id": "jAkQcVDA3UDN",
    "outputId": "6ae5dd48-66a6-4f51-ba98-3096826a560a"
   },
   "outputs": [
    {
     "data": {
      "text/plain": [
       "(454763, 8208)"
      ]
     },
     "execution_count": 75,
     "metadata": {},
     "output_type": "execute_result"
    }
   ],
   "source": [
    "uni_gram_vectors_train.shape"
   ]
  },
  {
   "cell_type": "code",
   "execution_count": 76,
   "metadata": {
    "colab": {},
    "colab_type": "code",
    "id": "Mq39vGck3UDP",
    "outputId": "347a5a3d-60c3-4064-f473-c7447b06c4af"
   },
   "outputs": [
    {
     "data": {
      "text/plain": [
       "<1x8208 sparse matrix of type '<class 'numpy.int64'>'\n",
       "\twith 6 stored elements in Compressed Sparse Row format>"
      ]
     },
     "execution_count": 76,
     "metadata": {},
     "output_type": "execute_result"
    }
   ],
   "source": [
    "uni_gram_vectors_train[0]"
   ]
  },
  {
   "cell_type": "code",
   "execution_count": 77,
   "metadata": {
    "colab": {},
    "colab_type": "code",
    "id": "MbvhUqdC3UDR",
    "outputId": "39305be3-9cca-40a1-90d2-a1462315a3ae"
   },
   "outputs": [
    {
     "data": {
      "text/plain": [
       "scipy.sparse.csr.csr_matrix"
      ]
     },
     "execution_count": 77,
     "metadata": {},
     "output_type": "execute_result"
    }
   ],
   "source": [
    "type(uni_gram_vectors_train)"
   ]
  },
  {
   "cell_type": "markdown",
   "metadata": {
    "colab_type": "text",
    "id": "Zh_qVkBd3UDU"
   },
   "source": [
    "## *2) Bi-gram BOW*"
   ]
  },
  {
   "cell_type": "code",
   "execution_count": 41,
   "metadata": {
    "colab": {},
    "colab_type": "code",
    "id": "MH0Xzl5o3UDU"
   },
   "outputs": [],
   "source": [
    "bi_gram = CountVectorizer(ngram_range=(1,2), min_df = 5, binary = True) # 1 means the minimum is unigram, 2 means max is bigrams, \n",
    "bi_gram_vectors_train = bi_gram.fit_transform(train['Summary_Clean'].values)\n",
    "bi_gram_vectors_test = bi_gram.transform(test['Summary_Clean'].values)\n"
   ]
  },
  {
   "cell_type": "code",
   "execution_count": 42,
   "metadata": {
    "colab": {},
    "colab_type": "code",
    "id": "jb5ICSjV3UDX",
    "outputId": "ace1008e-425f-41ab-e16a-b1015404006b"
   },
   "outputs": [
    {
     "data": {
      "text/plain": [
       "(454763, 46995)"
      ]
     },
     "execution_count": 42,
     "metadata": {},
     "output_type": "execute_result"
    }
   ],
   "source": [
    "bi_gram_vectors_train.shape"
   ]
  },
  {
   "cell_type": "code",
   "execution_count": 43,
   "metadata": {
    "colab": {},
    "colab_type": "code",
    "id": "pVw-dmcp3UDZ",
    "outputId": "f664bb89-f01e-46fe-eee5-2c96303bf028"
   },
   "outputs": [
    {
     "name": "stderr",
     "output_type": "stream",
     "text": [
      "/Users/zenghaoji/opt/anaconda3/envs/CAMM/lib/python3.9/site-packages/sklearn/utils/deprecation.py:87: FutureWarning: Function get_feature_names is deprecated; get_feature_names is deprecated in 1.0 and will be removed in 1.2. Please use get_feature_names_out instead.\n",
      "  warnings.warn(msg, category=FutureWarning)\n"
     ]
    },
    {
     "data": {
      "text/plain": [
       "['zoe oliv',\n",
       " 'zoe organ',\n",
       " 'zola',\n",
       " 'zombi',\n",
       " 'zone',\n",
       " 'zoo',\n",
       " 'zoom',\n",
       " 'zot',\n",
       " 'zotz',\n",
       " 'zsweet',\n",
       " 'zuke',\n",
       " 'zuke chicken',\n",
       " 'zuke dad',\n",
       " 'zuke dog',\n",
       " 'zuke hip',\n",
       " 'zuke is',\n",
       " 'zuke mini',\n",
       " 'zuke peanut',\n",
       " 'zuke product',\n",
       " 'zuke treat']"
      ]
     },
     "execution_count": 43,
     "metadata": {},
     "output_type": "execute_result"
    }
   ],
   "source": [
    "features = bi_gram.get_feature_names()\n",
    "features[-20:]"
   ]
  },
  {
   "cell_type": "markdown",
   "metadata": {
    "colab_type": "text",
    "id": "M6r9ddNd3UDb"
   },
   "source": [
    "## *3) tf-idf*\n",
    "\n",
    "* TF*IDF is an information retrieval technique that weighs a term's frequency (TF) and its inverse document frequency (IDF). Each word or term has its respective TF and IDF score. The product of the TF and IDF scores of a term is called the TF*IDF weight of that term\n",
    "\n",
    "![alt text](https://1.bp.blogspot.com/-tnzPA6dDtTU/Vw6EWm_PjCI/AAAAAAABDwI/JatHtUJb4fsce9E-Ns5t02_nakFtGrsugCLcB/s1600/%25E8%259E%25A2%25E5%25B9%2595%25E5%25BF%25AB%25E7%2585%25A7%2B2016-04-14%2B%25E4%25B8%258A%25E5%258D%25881.39.07.png)"
   ]
  },
  {
   "cell_type": "code",
   "execution_count": 44,
   "metadata": {
    "colab": {},
    "colab_type": "code",
    "id": "YwIRfTfL3UDb"
   },
   "outputs": [],
   "source": [
    "from sklearn.feature_extraction.text import TfidfVectorizer\n",
    "tfidf = TfidfVectorizer(ngram_range=(1,2), min_df = 5)\n",
    "tfidf_vectors_train = tfidf.fit_transform(train['Summary_Clean'].values)\n",
    "tfidf_vectors_test = tfidf.transform(test['Summary_Clean'].values)"
   ]
  },
  {
   "cell_type": "code",
   "execution_count": 45,
   "metadata": {
    "colab": {},
    "colab_type": "code",
    "id": "PS_sbpA_3UDe",
    "outputId": "a4115a7b-414e-4063-fc82-642bd5d05e39"
   },
   "outputs": [
    {
     "data": {
      "text/plain": [
       "(454763, 46995)"
      ]
     },
     "execution_count": 45,
     "metadata": {},
     "output_type": "execute_result"
    }
   ],
   "source": [
    "tfidf_vectors_train.shape"
   ]
  },
  {
   "cell_type": "code",
   "execution_count": 46,
   "metadata": {
    "colab": {},
    "colab_type": "code",
    "id": "9GALTx_13UDi",
    "outputId": "aa4828f5-428b-48bd-9e96-610621c20009"
   },
   "outputs": [
    {
     "data": {
      "text/plain": [
       "['00', '00 at', '00 for', '000', '000 tea', '02', '02 12', '03', '07', '09']"
      ]
     },
     "execution_count": 46,
     "metadata": {},
     "output_type": "execute_result"
    }
   ],
   "source": [
    "features = tfidf.get_feature_names()\n",
    "features[0:10]"
   ]
  },
  {
   "cell_type": "code",
   "execution_count": 47,
   "metadata": {
    "colab": {},
    "colab_type": "code",
    "id": "mUc1Tlju3UDl"
   },
   "outputs": [],
   "source": [
    "prediction = dict()\n",
    "prob = dict()"
   ]
  },
  {
   "cell_type": "markdown",
   "metadata": {
    "colab_type": "text",
    "id": "b8skP_NN3UDo"
   },
   "source": [
    "## Applying Logistic regression learning method"
   ]
  },
  {
   "cell_type": "code",
   "execution_count": 48,
   "metadata": {
    "colab": {},
    "colab_type": "code",
    "id": "AfFdtqK53UDp"
   },
   "outputs": [],
   "source": [
    "from sklearn.linear_model import LogisticRegression"
   ]
  },
  {
   "cell_type": "code",
   "execution_count": 49,
   "metadata": {
    "colab": {},
    "colab_type": "code",
    "id": "-3CPU2883UDr"
   },
   "outputs": [],
   "source": [
    "# logreg_bi_gram = LogisticRegression(C = 1e5, class_weight = 'balanced')\n",
    "# logreg_bi_gram_result = logreg_bi_gram.fit(bi_gram_vectors_train, train['Sentiment'])\n",
    "logreg_bi_gram = pickle.load(open('amazon.lr.pickle', 'rb'))\n",
    "\n"
   ]
  },
  {
   "cell_type": "code",
   "execution_count": 50,
   "metadata": {
    "colab": {},
    "colab_type": "code",
    "id": "Tuz9thAt3UDu"
   },
   "outputs": [],
   "source": [
    "prediction['logistic_bi_gram'] = logreg_bi_gram.predict(bi_gram_vectors_test)"
   ]
  },
  {
   "cell_type": "code",
   "execution_count": 51,
   "metadata": {
    "colab": {},
    "colab_type": "code",
    "id": "NnkmVAIh3UDx",
    "outputId": "2f269927-6b3f-4419-b962-98a6a5858583"
   },
   "outputs": [
    {
     "data": {
      "text/plain": [
       "array(['positive', 'negative', 'positive', ..., 'positive', 'positive',\n",
       "       'positive'], dtype=object)"
      ]
     },
     "execution_count": 51,
     "metadata": {},
     "output_type": "execute_result"
    }
   ],
   "source": [
    "prediction['logistic_bi_gram']"
   ]
  },
  {
   "cell_type": "code",
   "execution_count": 52,
   "metadata": {
    "colab": {},
    "colab_type": "code",
    "id": "V5Se-VjP3UD0",
    "outputId": "cc746e8b-1415-4ecc-d860-f8d732e50e2d",
    "scrolled": true
   },
   "outputs": [
    {
     "name": "stdout",
     "output_type": "stream",
     "text": [
      "test data\n",
      "positive    88777\n",
      "negative    24914\n",
      "Name: Sentiment, dtype: int64\n",
      "--------------\n",
      "predicted data\n",
      "Counter({'positive': 83517, 'negative': 30174})\n"
     ]
    }
   ],
   "source": [
    "import collections\n",
    "print('test data')\n",
    "print(test['Sentiment'].value_counts())\n",
    "print('--------------')\n",
    "print('predicted data')\n",
    "print(collections.Counter(prediction['logistic_bi_gram']))"
   ]
  },
  {
   "cell_type": "code",
   "execution_count": 53,
   "metadata": {
    "colab": {},
    "colab_type": "code",
    "id": "j1XArbWs3UD2"
   },
   "outputs": [],
   "source": [
    "prob['logistic_bi_gram'] = logreg_bi_gram.predict_proba(bi_gram_vectors_test)"
   ]
  },
  {
   "cell_type": "code",
   "execution_count": 54,
   "metadata": {
    "colab": {},
    "colab_type": "code",
    "id": "8D_oeXNA3UD4",
    "outputId": "650ce30a-eeb3-410a-ddc6-4496d2604c3e",
    "scrolled": true
   },
   "outputs": [
    {
     "data": {
      "text/plain": [
       "array([0.93631017, 0.38789261, 0.98200223, ..., 0.99416719, 0.99848825,\n",
       "       0.59372071])"
      ]
     },
     "execution_count": 54,
     "metadata": {},
     "output_type": "execute_result"
    }
   ],
   "source": [
    "prob['logistic_bi_gram'][:,1]"
   ]
  },
  {
   "cell_type": "markdown",
   "metadata": {
    "colab_type": "text",
    "id": "JQUhGWwz3UD6"
   },
   "source": [
    "## Results\n",
    "\n",
    "In order to compare our learning algorithms, let's build the ROC curve. The curve with the highest AUC value will show our \"best\" algorithm."
   ]
  },
  {
   "cell_type": "code",
   "execution_count": 55,
   "metadata": {},
   "outputs": [
    {
     "data": {
      "text/plain": [
       "0.8975644510119535"
      ]
     },
     "execution_count": 55,
     "metadata": {},
     "output_type": "execute_result"
    }
   ],
   "source": [
    "from sklearn.metrics import accuracy_score\n",
    "lgscore=accuracy_score(test['Sentiment'], prediction['logistic_bi_gram'])\n",
    "lgscore"
   ]
  },
  {
   "cell_type": "code",
   "execution_count": 56,
   "metadata": {
    "colab": {},
    "colab_type": "code",
    "id": "BslbPjCs3UD7"
   },
   "outputs": [],
   "source": [
    "from sklearn import metrics\n",
    "from sklearn.metrics import roc_curve, auc"
   ]
  },
  {
   "cell_type": "code",
   "execution_count": null,
   "metadata": {},
   "outputs": [],
   "source": []
  },
  {
   "cell_type": "code",
   "execution_count": 57,
   "metadata": {
    "colab": {},
    "colab_type": "code",
    "id": "J_zfr9m33UD9",
    "outputId": "92ba457f-6fdb-4ee3-ed7f-22bcd93e162f"
   },
   "outputs": [
    {
     "data": {
      "image/png": "[encoded data removed]",
      "text/plain": [
       "<Figure size 432x288 with 1 Axes>"
      ]
     },
     "metadata": {
      "needs_background": "light"
     },
     "output_type": "display_data"
    }
   ],
   "source": [
    "cmp = 0\n",
    "colors = ['b', 'g', 'y', 'm', 'k']\n",
    "for model, predicted in prediction.items():\n",
    "    false_positive_rate, true_positive_rate, thresholds = \\\n",
    "            roc_curve(test['Sentiment'].values, prob['logistic_bi_gram'][:,1], pos_label = 'positive')\n",
    "    roc_auc = auc(false_positive_rate, true_positive_rate)\n",
    "    plt.plot(false_positive_rate, true_positive_rate, colors[cmp], label='%s: AUC %0.2f'% (model,roc_auc))\n",
    "    cmp += 1\n",
    "\n",
    "plt.title('Classifiers comparaison with ROC')\n",
    "plt.legend(loc='lower right')\n",
    "plt.plot([0,1],[0,1],'r--')\n",
    "plt.xlim([-0.1,1.2])\n",
    "plt.ylim([-0.1,1.2])\n",
    "plt.ylabel('True Positive Rate')\n",
    "plt.xlabel('False Positive Rate')\n",
    "plt.show()"
   ]
  },
  {
   "cell_type": "code",
   "execution_count": 58,
   "metadata": {
    "colab": {},
    "colab_type": "code",
    "id": "HlSyHXlN3UEB",
    "outputId": "240f92b9-9f6b-44ce-b133-52aa14085683"
   },
   "outputs": [
    {
     "name": "stdout",
     "output_type": "stream",
     "text": [
      "              precision    recall  f1-score   support\n",
      "\n",
      "    negative       0.72      0.87      0.79     24914\n",
      "    positive       0.96      0.90      0.93     88777\n",
      "\n",
      "    accuracy                           0.90    113691\n",
      "   macro avg       0.84      0.89      0.86    113691\n",
      "weighted avg       0.91      0.90      0.90    113691\n",
      "\n"
     ]
    }
   ],
   "source": [
    "print(metrics.classification_report(test['Sentiment'].values, \n",
    "                                    prediction['logistic_bi_gram'], \n",
    "                                    target_names = [\"negative\", \"positive\"]))"
   ]
  },
  {
   "cell_type": "markdown",
   "metadata": {
    "colab_type": "text",
    "id": "Hfs0McgF3UED"
   },
   "source": [
    "Let's remember what Precision and Recall are (more here https://en.wikipedia.org/wiki/Precision_and_recall)"
   ]
  },
  {
   "cell_type": "markdown",
   "metadata": {
    "colab_type": "text",
    "id": "h2Z6Y-H43UED"
   },
   "source": [
    "![Precision_Recall](https://upload.wikimedia.org/wikipedia/commons/thumb/2/26/Precisionrecall.svg/525px-Precisionrecall.svg.png)"
   ]
  },
  {
   "cell_type": "code",
   "execution_count": 59,
   "metadata": {
    "colab": {},
    "colab_type": "code",
    "id": "tldNe1Fq3UEE"
   },
   "outputs": [],
   "source": [
    "# recall and precision are low for negative class. More improvement can be made. "
   ]
  },
  {
   "cell_type": "markdown",
   "metadata": {
    "colab_type": "text",
    "id": "FjpqPcRp3UEH"
   },
   "source": [
    "### Let's also have a look at what the best & words are by looking at the coefficients:"
   ]
  },
  {
   "cell_type": "code",
   "execution_count": 60,
   "metadata": {
    "colab": {},
    "colab_type": "code",
    "id": "2SiATN8V3UEI",
    "outputId": "9c9cf400-1daf-4690-9773-79d3c5eff9e7"
   },
   "outputs": [
    {
     "name": "stderr",
     "output_type": "stream",
     "text": [
      "/Users/zenghaoji/opt/anaconda3/envs/CAMM/lib/python3.9/site-packages/sklearn/utils/deprecation.py:87: FutureWarning: Function get_feature_names is deprecated; get_feature_names is deprecated in 1.0 and will be removed in 1.2. Please use get_feature_names_out instead.\n",
      "  warnings.warn(msg, category=FutureWarning)\n"
     ]
    },
    {
     "data": {
      "text/html": [
       "<div>\n",
       "<style scoped>\n",
       "    .dataframe tbody tr th:only-of-type {\n",
       "        vertical-align: middle;\n",
       "    }\n",
       "\n",
       "    .dataframe tbody tr th {\n",
       "        vertical-align: top;\n",
       "    }\n",
       "\n",
       "    .dataframe thead th {\n",
       "        text-align: right;\n",
       "    }\n",
       "</style>\n",
       "<table border=\"1\" class=\"dataframe\">\n",
       "  <thead>\n",
       "    <tr style=\"text-align: right;\">\n",
       "      <th></th>\n",
       "      <th>feature</th>\n",
       "      <th>coef</th>\n",
       "    </tr>\n",
       "  </thead>\n",
       "  <tbody>\n",
       "    <tr>\n",
       "      <th>46711</th>\n",
       "      <td>yuck</td>\n",
       "      <td>-16.529004</td>\n",
       "    </tr>\n",
       "    <tr>\n",
       "      <th>46720</th>\n",
       "      <td>yuk</td>\n",
       "      <td>-11.493224</td>\n",
       "    </tr>\n",
       "    <tr>\n",
       "      <th>43103</th>\n",
       "      <td>ugh</td>\n",
       "      <td>-11.335076</td>\n",
       "    </tr>\n",
       "    <tr>\n",
       "      <th>11413</th>\n",
       "      <td>disapoint</td>\n",
       "      <td>-11.216029</td>\n",
       "    </tr>\n",
       "    <tr>\n",
       "      <th>5332</th>\n",
       "      <td>blech</td>\n",
       "      <td>-11.202563</td>\n",
       "    </tr>\n",
       "    <tr>\n",
       "      <th>...</th>\n",
       "      <td>...</td>\n",
       "      <td>...</td>\n",
       "    </tr>\n",
       "    <tr>\n",
       "      <th>16802</th>\n",
       "      <td>get enough</td>\n",
       "      <td>10.079406</td>\n",
       "    </tr>\n",
       "    <tr>\n",
       "      <th>43843</th>\n",
       "      <td>veri pleas</td>\n",
       "      <td>10.718586</td>\n",
       "    </tr>\n",
       "    <tr>\n",
       "      <th>44860</th>\n",
       "      <td>what not</td>\n",
       "      <td>11.800604</td>\n",
       "    </tr>\n",
       "    <tr>\n",
       "      <th>28161</th>\n",
       "      <td>not disappoint</td>\n",
       "      <td>12.495927</td>\n",
       "    </tr>\n",
       "    <tr>\n",
       "      <th>27776</th>\n",
       "      <td>no bitter</td>\n",
       "      <td>13.042058</td>\n",
       "    </tr>\n",
       "  </tbody>\n",
       "</table>\n",
       "<p>46995 rows × 2 columns</p>\n",
       "</div>"
      ],
      "text/plain": [
       "              feature       coef\n",
       "46711            yuck -16.529004\n",
       "46720             yuk -11.493224\n",
       "43103             ugh -11.335076\n",
       "11413       disapoint -11.216029\n",
       "5332            blech -11.202563\n",
       "...               ...        ...\n",
       "16802      get enough  10.079406\n",
       "43843      veri pleas  10.718586\n",
       "44860        what not  11.800604\n",
       "28161  not disappoint  12.495927\n",
       "27776       no bitter  13.042058\n",
       "\n",
       "[46995 rows x 2 columns]"
      ]
     },
     "execution_count": 60,
     "metadata": {},
     "output_type": "execute_result"
    }
   ],
   "source": [
    "feature = bi_gram.get_feature_names()\n",
    "feature_coefs = pd.DataFrame(\n",
    "    data = list(zip(feature, logreg_bi_gram.coef_[0])),\n",
    "    columns = ['feature', 'coef'])\n",
    "\n",
    "feature_coefs.sort_values(by='coef')"
   ]
  },
  {
   "cell_type": "code",
   "execution_count": null,
   "metadata": {
    "colab": {},
    "colab_type": "code",
    "id": "NpGZZHcU3UEK"
   },
   "outputs": [],
   "source": []
  },
  {
   "cell_type": "markdown",
   "metadata": {
    "colab_type": "text",
    "id": "_NKsCMmF3UEN"
   },
   "source": [
    "## Applying RandomForest method"
   ]
  },
  {
   "cell_type": "code",
   "execution_count": 61,
   "metadata": {
    "colab": {},
    "colab_type": "code",
    "id": "i8M8hnQS3UEO"
   },
   "outputs": [],
   "source": [
    "from sklearn.ensemble import RandomForestClassifier"
   ]
  },
  {
   "cell_type": "code",
   "execution_count": 62,
   "metadata": {
    "colab": {},
    "colab_type": "code",
    "id": "sR9D9Tuv3UEP"
   },
   "outputs": [],
   "source": [
    "# rf_bi_gram = RandomForestClassifier(n_estimators = 100, class_weight = 'balanced', n_jobs = -1)\n",
    "# rf_bi_gram_result = rf_bi_gram.fit(bi_gram_vectors_train, train['Sentiment'])\n",
    "rf_bi_gram = pickle.load(open('amazon.rf.pickle', 'rb'))"
   ]
  },
  {
   "cell_type": "code",
   "execution_count": 63,
   "metadata": {
    "colab": {},
    "colab_type": "code",
    "id": "lyb_YZk73UEQ"
   },
   "outputs": [],
   "source": [
    "prediction['rf_bi_gram'] = rf_bi_gram.predict(bi_gram_vectors_test)"
   ]
  },
  {
   "cell_type": "code",
   "execution_count": 64,
   "metadata": {
    "colab": {},
    "colab_type": "code",
    "id": "gT-F6MR-3UET",
    "outputId": "8729e4ad-1099-44ba-dfa7-85158daf1d2a"
   },
   "outputs": [
    {
     "name": "stdout",
     "output_type": "stream",
     "text": [
      "test data\n",
      "positive    88777\n",
      "negative    24914\n",
      "Name: Sentiment, dtype: int64\n",
      "--------------\n",
      "predicted data\n",
      "Counter({'positive': 87572, 'negative': 26119})\n"
     ]
    }
   ],
   "source": [
    "print('test data')\n",
    "print(test['Sentiment'].value_counts())\n",
    "print('--------------')\n",
    "print('predicted data')\n",
    "print(collections.Counter(prediction['rf_bi_gram']))"
   ]
  },
  {
   "cell_type": "code",
   "execution_count": 65,
   "metadata": {
    "colab": {},
    "colab_type": "code",
    "id": "l4BAkVFc3UEV",
    "outputId": "8e1d9b43-6f3d-4efb-cffc-5324a51e7be2"
   },
   "outputs": [
    {
     "data": {
      "text/plain": [
       "array([1.        , 0.794949  , 1.        , 1.        , 0.99085651,\n",
       "       0.91580446, 0.98982384, 1.        , 0.06584219, 0.56637201])"
      ]
     },
     "execution_count": 65,
     "metadata": {},
     "output_type": "execute_result"
    }
   ],
   "source": [
    "prob['rf_bi_gram'] = rf_bi_gram.predict_proba(bi_gram_vectors_test)\n",
    "prob['rf_bi_gram'][0:10,1]"
   ]
  },
  {
   "cell_type": "code",
   "execution_count": 66,
   "metadata": {
    "colab": {},
    "colab_type": "code",
    "id": "x9QeSkDf3UEY",
    "outputId": "b27b2972-5455-4ae5-f248-5e394a02f0b7"
   },
   "outputs": [
    {
     "data": {
      "text/plain": [
       "0    positive\n",
       "1    positive\n",
       "2    positive\n",
       "3    positive\n",
       "4    positive\n",
       "5    positive\n",
       "6    positive\n",
       "7    positive\n",
       "8    negative\n",
       "9    positive\n",
       "Name: Sentiment, dtype: object"
      ]
     },
     "execution_count": 66,
     "metadata": {},
     "output_type": "execute_result"
    }
   ],
   "source": [
    "test['Sentiment'][0:10]"
   ]
  },
  {
   "cell_type": "code",
   "execution_count": 67,
   "metadata": {
    "colab": {},
    "colab_type": "code",
    "id": "ylv2sFiA3UEZ",
    "outputId": "6a4e5fdc-00e9-4770-a8c4-ffdd39f7f5b6"
   },
   "outputs": [
    {
     "data": {
      "image/png": "[encoded data removed]",
      "text/plain": [
       "<Figure size 432x288 with 1 Axes>"
      ]
     },
     "metadata": {
      "needs_background": "light"
     },
     "output_type": "display_data"
    }
   ],
   "source": [
    "cmp = 0\n",
    "colors = ['b', 'g', 'y', 'm', 'k']\n",
    "for model, predicted in prediction.items():\n",
    "    false_positive_rate, true_positive_rate, thresholds = \\\n",
    "            roc_curve(test['Sentiment'].values, prob[model][:,1], pos_label = 'positive')\n",
    "    roc_auc = auc(false_positive_rate, true_positive_rate)\n",
    "    plt.plot(false_positive_rate, true_positive_rate, colors[cmp], label='%s: AUC %0.2f'% (model,roc_auc))\n",
    "    cmp += 1\n",
    "\n",
    "plt.title('Classifiers comparaison with ROC')\n",
    "plt.legend(loc='lower right')\n",
    "plt.plot([0,1],[0,1],'r--')\n",
    "plt.xlim([-0.1,1.2])\n",
    "plt.ylim([-0.1,1.2])\n",
    "plt.ylabel('True Positive Rate')\n",
    "plt.xlabel('False Positive Rate')\n",
    "plt.show()"
   ]
  },
  {
   "cell_type": "code",
   "execution_count": 68,
   "metadata": {
    "colab": {},
    "colab_type": "code",
    "id": "hq5gdhvl3UEc",
    "outputId": "ea338bea-68d4-4869-e7da-7d76740b057d"
   },
   "outputs": [
    {
     "name": "stdout",
     "output_type": "stream",
     "text": [
      "              precision    recall  f1-score   support\n",
      "\n",
      "    negative       0.72      0.87      0.79     24914\n",
      "    positive       0.96      0.90      0.93     88777\n",
      "\n",
      "    accuracy                           0.90    113691\n",
      "   macro avg       0.84      0.89      0.86    113691\n",
      "weighted avg       0.91      0.90      0.90    113691\n",
      "\n"
     ]
    }
   ],
   "source": [
    "print(metrics.classification_report(test['Sentiment'].values, \n",
    "                                    prediction['logistic_bi_gram'], \n",
    "                                    target_names = [\"negative\", \"positive\"]))"
   ]
  },
  {
   "cell_type": "code",
   "execution_count": 69,
   "metadata": {
    "colab": {},
    "colab_type": "code",
    "id": "F7LdGupc3UEe",
    "outputId": "3b7a697a-b952-4e5f-c20d-3b6a49d924db"
   },
   "outputs": [
    {
     "name": "stdout",
     "output_type": "stream",
     "text": [
      "              precision    recall  f1-score   support\n",
      "\n",
      "    negative       0.80      0.84      0.82     24914\n",
      "    positive       0.96      0.94      0.95     88777\n",
      "\n",
      "    accuracy                           0.92    113691\n",
      "   macro avg       0.88      0.89      0.89    113691\n",
      "weighted avg       0.92      0.92      0.92    113691\n",
      "\n"
     ]
    }
   ],
   "source": [
    "print(metrics.classification_report(test['Sentiment'].values, \n",
    "                                    prediction['rf_bi_gram'], \n",
    "                                    target_names = [\"negative\", \"positive\"]))"
   ]
  },
  {
   "cell_type": "code",
   "execution_count": 70,
   "metadata": {},
   "outputs": [
    {
     "data": {
      "text/plain": [
       "0.9204070682815703"
      ]
     },
     "execution_count": 70,
     "metadata": {},
     "output_type": "execute_result"
    }
   ],
   "source": [
    "from sklearn.metrics import accuracy_score\n",
    "rfscore=accuracy_score(test['Sentiment'], prediction['rf_bi_gram'])\n",
    "rfscore"
   ]
  },
  {
   "cell_type": "markdown",
   "metadata": {},
   "source": [
    "# RF比Logistic Regression准确率高"
   ]
  },
  {
   "cell_type": "code",
   "execution_count": 71,
   "metadata": {},
   "outputs": [
    {
     "name": "stdout",
     "output_type": "stream",
     "text": [
      "0.025665862100693014\n"
     ]
    }
   ],
   "source": [
    "print((rfscore-lgscore)/0.89)"
   ]
  },
  {
   "cell_type": "markdown",
   "metadata": {
    "colab_type": "text",
    "id": "trVbz76o3UEg"
   },
   "source": [
    "### Let's also have a look at what the best & words are by looking at the importance score:"
   ]
  },
  {
   "cell_type": "code",
   "execution_count": 72,
   "metadata": {
    "colab": {},
    "colab_type": "code",
    "id": "rZKUbQGf3UEg",
    "outputId": "d9a11c35-d41e-4c89-e11e-8552b91e2c84"
   },
   "outputs": [
    {
     "name": "stderr",
     "output_type": "stream",
     "text": [
      "/Users/zenghaoji/opt/anaconda3/envs/CAMM/lib/python3.9/site-packages/sklearn/utils/deprecation.py:87: FutureWarning: Function get_feature_names is deprecated; get_feature_names is deprecated in 1.0 and will be removed in 1.2. Please use get_feature_names_out instead.\n",
      "  warnings.warn(msg, category=FutureWarning)\n"
     ]
    },
    {
     "data": {
      "text/html": [
       "<div>\n",
       "<style scoped>\n",
       "    .dataframe tbody tr th:only-of-type {\n",
       "        vertical-align: middle;\n",
       "    }\n",
       "\n",
       "    .dataframe tbody tr th {\n",
       "        vertical-align: top;\n",
       "    }\n",
       "\n",
       "    .dataframe thead th {\n",
       "        text-align: right;\n",
       "    }\n",
       "</style>\n",
       "<table border=\"1\" class=\"dataframe\">\n",
       "  <thead>\n",
       "    <tr style=\"text-align: right;\">\n",
       "      <th></th>\n",
       "      <th>feature</th>\n",
       "      <th>importance</th>\n",
       "    </tr>\n",
       "  </thead>\n",
       "  <tbody>\n",
       "    <tr>\n",
       "      <th>28061</th>\n",
       "      <td>not</td>\n",
       "      <td>0.039606</td>\n",
       "    </tr>\n",
       "    <tr>\n",
       "      <th>18019</th>\n",
       "      <td>great</td>\n",
       "      <td>0.029937</td>\n",
       "    </tr>\n",
       "    <tr>\n",
       "      <th>4376</th>\n",
       "      <td>best</td>\n",
       "      <td>0.016471</td>\n",
       "    </tr>\n",
       "    <tr>\n",
       "      <th>10746</th>\n",
       "      <td>delici</td>\n",
       "      <td>0.014269</td>\n",
       "    </tr>\n",
       "    <tr>\n",
       "      <th>24479</th>\n",
       "      <td>love</td>\n",
       "      <td>0.012432</td>\n",
       "    </tr>\n",
       "    <tr>\n",
       "      <th>...</th>\n",
       "      <td>...</td>\n",
       "      <td>...</td>\n",
       "    </tr>\n",
       "    <tr>\n",
       "      <th>492</th>\n",
       "      <td>acheiv and</td>\n",
       "      <td>0.000000</td>\n",
       "    </tr>\n",
       "    <tr>\n",
       "      <th>18724</th>\n",
       "      <td>grey bag</td>\n",
       "      <td>0.000000</td>\n",
       "    </tr>\n",
       "    <tr>\n",
       "      <th>35515</th>\n",
       "      <td>sherman texa</td>\n",
       "      <td>0.000000</td>\n",
       "    </tr>\n",
       "    <tr>\n",
       "      <th>24427</th>\n",
       "      <td>los gato</td>\n",
       "      <td>0.000000</td>\n",
       "    </tr>\n",
       "    <tr>\n",
       "      <th>30130</th>\n",
       "      <td>orang chocolate</td>\n",
       "      <td>0.000000</td>\n",
       "    </tr>\n",
       "  </tbody>\n",
       "</table>\n",
       "<p>46995 rows × 2 columns</p>\n",
       "</div>"
      ],
      "text/plain": [
       "               feature  importance\n",
       "28061              not    0.039606\n",
       "18019            great    0.029937\n",
       "4376              best    0.016471\n",
       "10746           delici    0.014269\n",
       "24479             love    0.012432\n",
       "...                ...         ...\n",
       "492         acheiv and    0.000000\n",
       "18724         grey bag    0.000000\n",
       "35515     sherman texa    0.000000\n",
       "24427         los gato    0.000000\n",
       "30130  orang chocolate    0.000000\n",
       "\n",
       "[46995 rows x 2 columns]"
      ]
     },
     "execution_count": 72,
     "metadata": {},
     "output_type": "execute_result"
    }
   ],
   "source": [
    "feature = bi_gram.get_feature_names()\n",
    "rf_feature_importance = pd.DataFrame(data = list(zip(feature, rf_bi_gram.feature_importances_)),\n",
    "    columns = ['feature', 'importance'])\n",
    "rf_feature_importance.sort_values(by='importance', ascending=False)"
   ]
  },
  {
   "cell_type": "code",
   "execution_count": null,
   "metadata": {
    "colab": {},
    "colab_type": "code",
    "id": "1h5CFsbk3UEh"
   },
   "outputs": [],
   "source": []
  },
  {
   "cell_type": "code",
   "execution_count": 73,
   "metadata": {
    "colab": {},
    "colab_type": "code",
    "id": "MooLOsDu3UEi"
   },
   "outputs": [],
   "source": [
    "pickle.dump(logreg_bi_gram, open('amazon.lr.pickle', 'wb'))\n",
    "pickle.dump(rf_bi_gram, open('amazon.rf.pickle', 'wb'))    \n",
    "\n",
    "# logreg_bi_gram = pickle.load(open('amazon.lr.pickle', 'rb'))\n",
    "# rf_bi_gram = pickle.load(open('amazon.rf.pickle', 'rb'))\n"
   ]
  },
  {
   "cell_type": "code",
   "execution_count": null,
   "metadata": {
    "colab": {},
    "colab_type": "code",
    "id": "RmGsigNX3UEl"
   },
   "outputs": [],
   "source": []
  },
  {
   "cell_type": "markdown",
   "metadata": {
    "colab_type": "text",
    "id": "GxS7DSIn3UEo"
   },
   "source": [
    "## next step\n",
    "- try tfidf\n",
    "- try using Logistic regression + L1 regularization\n",
    "- try other machine learning methods. "
   ]
  },
  {
   "cell_type": "code",
   "execution_count": null,
   "metadata": {
    "colab": {},
    "colab_type": "code",
    "id": "LdonZviw3UEp"
   },
   "outputs": [],
   "source": []
  },
  {
   "cell_type": "code",
   "execution_count": null,
   "metadata": {
    "colab": {},
    "colab_type": "code",
    "id": "70wBBATP3UEq"
   },
   "outputs": [],
   "source": []
  },
  {
   "cell_type": "code",
   "execution_count": null,
   "metadata": {
    "colab": {},
    "colab_type": "code",
    "id": "9kMqr_lw3UEr"
   },
   "outputs": [],
   "source": []
  },
  {
   "cell_type": "code",
   "execution_count": null,
   "metadata": {
    "colab": {},
    "colab_type": "code",
    "id": "5F9ouXHg3UEt"
   },
   "outputs": [],
   "source": []
  },
  {
   "cell_type": "code",
   "execution_count": null,
   "metadata": {
    "colab": {},
    "colab_type": "code",
    "id": "0AuVAEYu3UEv"
   },
   "outputs": [],
   "source": []
  },
  {
   "cell_type": "code",
   "execution_count": null,
   "metadata": {
    "colab": {},
    "colab_type": "code",
    "id": "27E2BJE43UEx"
   },
   "outputs": [],
   "source": []
  },
  {
   "cell_type": "code",
   "execution_count": null,
   "metadata": {
    "colab": {},
    "colab_type": "code",
    "id": "7LbFVNUf3UEy"
   },
   "outputs": [],
   "source": []
  },
  {
   "cell_type": "code",
   "execution_count": null,
   "metadata": {
    "colab": {},
    "colab_type": "code",
    "id": "bEtXqDYA3UE0"
   },
   "outputs": [],
   "source": []
  },
  {
   "cell_type": "code",
   "execution_count": null,
   "metadata": {
    "colab": {},
    "colab_type": "code",
    "id": "E8_naAM13UE5"
   },
   "outputs": [],
   "source": []
  },
  {
   "cell_type": "code",
   "execution_count": null,
   "metadata": {
    "colab": {},
    "colab_type": "code",
    "id": "0S9Ajr5-3UE6"
   },
   "outputs": [],
   "source": []
  },
  {
   "cell_type": "code",
   "execution_count": null,
   "metadata": {
    "colab": {},
    "colab_type": "code",
    "id": "WnqBQFxa3UE7"
   },
   "outputs": [],
   "source": []
  },
  {
   "cell_type": "code",
   "execution_count": null,
   "metadata": {
    "colab": {},
    "colab_type": "code",
    "id": "_zb1lp1r3UE9"
   },
   "outputs": [],
   "source": []
  }
 ],
 "metadata": {
  "colab": {
   "name": "ztgg_project_amazon.ipynb",
   "provenance": []
  },
  "kernelspec": {
   "display_name": "Python 3 (ipykernel)",
   "language": "python",
   "name": "python3"
  },
  "language_info": {
   "codemirror_mode": {
    "name": "ipython",
    "version": 3
   },
   "file_extension": ".py",
   "mimetype": "text/x-python",
   "name": "python",
   "nbconvert_exporter": "python",
   "pygments_lexer": "ipython3",
   "version": "3.9.7"
  }
 },
 "nbformat": 4,
 "nbformat_minor": 1
}
